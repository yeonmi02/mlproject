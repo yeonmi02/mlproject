{
  "nbformat": 4,
  "nbformat_minor": 0,
  "metadata": {
    "colab": {
      "provenance": [],
      "authorship_tag": "ABX9TyPPouSNyAu0t9aL4trKXQK8",
      "include_colab_link": true
    },
    "kernelspec": {
      "name": "python3",
      "display_name": "Python 3"
    },
    "language_info": {
      "name": "python"
    }
  },
  "cells": [
    {
      "cell_type": "markdown",
      "metadata": {
        "id": "view-in-github",
        "colab_type": "text"
      },
      "source": [
        "<a href=\"https://colab.research.google.com/github/yeonmi02/mlproject/blob/main/project_proposal_md.ipynb\" target=\"_parent\"><img src=\"https://colab.research.google.com/assets/colab-badge.svg\" alt=\"Open In Colab\"/></a>"
      ]
    },
    {
      "cell_type": "code",
      "execution_count": null,
      "metadata": {
        "id": "4hejuB6l1N1o"
      },
      "outputs": [],
      "source": []
    },
    {
      "cell_type": "markdown",
      "source": [
        "# 프로젝트 제안서\n",
        "\n",
        "## 1. 프로젝트 개요\n",
        "\n",
        "\n",
        "*   프로젝트 이름 : 교통 데이터 분석\n",
        "*   작성자 : 김연미, 최성민\n",
        "*   작성일 : 2025년 3월 26일\n",
        "\n",
        "## 2. 배경 및 필요성\n",
        "\n",
        "\n",
        "*  복잡한 교통 상황을 한눈에 파악하고 예측하기 위함\n",
        "\n",
        "## 3. 목표\n",
        "\n",
        "*  교통의 혼잡의 심각성을 평가하고 주중 다른 시간과 다른 요일의 교통 상황을 모니터링하는 것\n",
        "\n",
        "## 4. 주요 기능 및 특징\n",
        "\n",
        "*  기능 1 : 교통 계획과 혼잡 관리 및 교통 흐름 분석에 유용\n",
        "*  기능 2 : 차량 관계를 파악하고 혼잡한 지역을 식별\n",
        "*  기능 3 : 인프라 개선 제공 도시 이동성을 향상 시키고 지속 가능한 도시를 만듦\n",
        "*  기능 4 : 시간이나 날짜의 교통 패턴을 연구하는 기능\n",
        "\n",
        "## 5. 기대 효과\n",
        "\n",
        "*  교통 상황을 시간대와 날짜별로 분석하고 혼잡도에 따라 효율적인 이동을 가능하게 하는 기대가 예상된다.\n",
        "\n",
        "## 6. 일정 계획\n",
        "\n",
        "\n",
        "\n",
        "\n",
        "## 7. 예산\n",
        "\n",
        "* 없음\n",
        "\n",
        "## 8. 팀 구성\n",
        "\n",
        "* 김연미,최성민 : 코드 구성\n",
        "\n",
        "## 9. 결론\n",
        "\n",
        "* 결론 : 교통 데이터를 가지고 항목별로 분석한 뒤에 목표한 기대를 이뤄 교통 상황에 대한 혼잡도를 나타내는 것\n",
        "\n",
        "\n",
        "\n",
        "\n",
        "\n",
        "\n",
        "\n",
        "\n",
        "\n",
        "\n",
        "\n",
        "\n",
        "\n",
        "\n",
        "\n",
        "\n",
        "\n",
        "\n",
        "\n",
        "\n",
        "\n",
        "\n",
        "\n",
        "\n",
        "\n",
        "\n",
        "\n",
        "\n",
        "\n",
        "\n",
        "\n"
      ],
      "metadata": {
        "id": "pQZFks2D1bQA"
      }
    }
  ]
}